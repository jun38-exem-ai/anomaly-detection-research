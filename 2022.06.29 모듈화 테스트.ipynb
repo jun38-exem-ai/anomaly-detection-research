{
 "cells": [
  {
   "cell_type": "code",
   "execution_count": 1,
   "id": "d2fc5a25",
   "metadata": {
    "ExecuteTime": {
     "end_time": "2022-07-06T05:39:23.756017Z",
     "start_time": "2022-07-06T05:39:23.270256Z"
    }
   },
   "outputs": [],
   "source": [
    "import pandas as pd\n",
    "import numpy as np"
   ]
  },
  {
   "cell_type": "code",
   "execution_count": 8,
   "id": "804a4de8",
   "metadata": {
    "ExecuteTime": {
     "end_time": "2022-06-30T02:17:20.332150Z",
     "start_time": "2022-06-30T02:17:20.326691Z"
    }
   },
   "outputs": [],
   "source": [
    "a = [1,2,3,4,5]\n",
    "b = [5]"
   ]
  },
  {
   "cell_type": "code",
   "execution_count": 9,
   "id": "8ba8aee7",
   "metadata": {
    "ExecuteTime": {
     "end_time": "2022-06-30T02:17:21.030664Z",
     "start_time": "2022-06-30T02:17:21.022265Z"
    }
   },
   "outputs": [
    {
     "name": "stdout",
     "output_type": "stream",
     "text": [
      "test_fail\n"
     ]
    }
   ],
   "source": [
    "if b.value in a : \n",
    "    print('test_sucess')\n",
    "else:\n",
    "    print('test_fail')"
   ]
  },
  {
   "cell_type": "code",
   "execution_count": 4,
   "id": "14cad898",
   "metadata": {
    "ExecuteTime": {
     "end_time": "2022-06-30T02:15:53.162433Z",
     "start_time": "2022-06-30T02:15:53.137494Z"
    }
   },
   "outputs": [
    {
     "data": {
      "text/plain": [
       "True"
      ]
     },
     "execution_count": 4,
     "metadata": {},
     "output_type": "execute_result"
    }
   ],
   "source": [
    "b in a"
   ]
  },
  {
   "cell_type": "code",
   "execution_count": 13,
   "id": "fdf5ffb8",
   "metadata": {
    "ExecuteTime": {
     "end_time": "2022-06-30T02:28:53.919909Z",
     "start_time": "2022-06-30T02:28:53.912384Z"
    }
   },
   "outputs": [
    {
     "data": {
      "text/plain": [
       "[1, 2, 3, 4]"
      ]
     },
     "execution_count": 13,
     "metadata": {},
     "output_type": "execute_result"
    }
   ],
   "source": [
    "if b[0] in a:\n",
    "    a.remove(b[0])\n",
    "a    "
   ]
  },
  {
   "cell_type": "code",
   "execution_count": 12,
   "id": "53c25039",
   "metadata": {
    "ExecuteTime": {
     "end_time": "2022-06-30T02:28:36.388673Z",
     "start_time": "2022-06-30T02:28:36.382506Z"
    }
   },
   "outputs": [
    {
     "data": {
      "text/plain": [
       "5"
      ]
     },
     "execution_count": 12,
     "metadata": {},
     "output_type": "execute_result"
    }
   ],
   "source": [
    "b[0]"
   ]
  },
  {
   "cell_type": "code",
   "execution_count": 11,
   "id": "8cc5e362",
   "metadata": {
    "ExecuteTime": {
     "end_time": "2022-06-30T02:17:44.373902Z",
     "start_time": "2022-06-30T02:17:44.155003Z"
    }
   },
   "outputs": [
    {
     "ename": "AttributeError",
     "evalue": "'list' object has no attribute 'value'",
     "output_type": "error",
     "traceback": [
      "\u001b[1;31m---------------------------------------------------------------------------\u001b[0m",
      "\u001b[1;31mAttributeError\u001b[0m                            Traceback (most recent call last)",
      "\u001b[1;32m~\\AppData\\Local\\Temp/ipykernel_14392/799594799.py\u001b[0m in \u001b[0;36m<module>\u001b[1;34m\u001b[0m\n\u001b[1;32m----> 1\u001b[1;33m \u001b[0mb\u001b[0m\u001b[1;33m.\u001b[0m\u001b[0mvalue\u001b[0m\u001b[1;33m\u001b[0m\u001b[1;33m\u001b[0m\u001b[0m\n\u001b[0m",
      "\u001b[1;31mAttributeError\u001b[0m: 'list' object has no attribute 'value'"
     ]
    }
   ],
   "source": [
    "b.value"
   ]
  },
  {
   "cell_type": "code",
   "execution_count": 14,
   "id": "43e42f7d",
   "metadata": {
    "ExecuteTime": {
     "end_time": "2022-06-30T02:29:50.757335Z",
     "start_time": "2022-06-30T02:29:50.749582Z"
    }
   },
   "outputs": [
    {
     "data": {
      "text/plain": [
       "[1, 2, 3, 4]"
      ]
     },
     "execution_count": 14,
     "metadata": {},
     "output_type": "execute_result"
    }
   ],
   "source": [
    "a"
   ]
  },
  {
   "cell_type": "code",
   "execution_count": 2,
   "id": "a7f972f3",
   "metadata": {
    "ExecuteTime": {
     "end_time": "2022-07-06T05:39:45.115763Z",
     "start_time": "2022-07-06T05:39:45.094462Z"
    }
   },
   "outputs": [],
   "source": [
    "test_df = pd.read_csv('C:/Users/exem/Documents/GitHub/anomaly-detection-research/20220421101914/214_20220420.csv')\n",
    "test_df['idx'] = test_df.index\n",
    "metric =\"tps\"\n",
    "test_data = test_df[['idx', metric]]\n",
    "# test = test_data[metric] - train_data.groupby('idx').mean()[metric]\n",
    "# test = np.array([test]).T"
   ]
  },
  {
   "cell_type": "code",
   "execution_count": 5,
   "id": "a9cbfc2b",
   "metadata": {
    "ExecuteTime": {
     "end_time": "2022-07-04T06:53:10.287916Z",
     "start_time": "2022-07-04T06:53:10.263100Z"
    }
   },
   "outputs": [
    {
     "data": {
      "text/html": [
       "<div>\n",
       "<style scoped>\n",
       "    .dataframe tbody tr th:only-of-type {\n",
       "        vertical-align: middle;\n",
       "    }\n",
       "\n",
       "    .dataframe tbody tr th {\n",
       "        vertical-align: top;\n",
       "    }\n",
       "\n",
       "    .dataframe thead th {\n",
       "        text-align: right;\n",
       "    }\n",
       "</style>\n",
       "<table border=\"1\" class=\"dataframe\">\n",
       "  <thead>\n",
       "    <tr style=\"text-align: right;\">\n",
       "      <th></th>\n",
       "      <th>idx</th>\n",
       "      <th>tps</th>\n",
       "    </tr>\n",
       "  </thead>\n",
       "  <tbody>\n",
       "    <tr>\n",
       "      <th>0</th>\n",
       "      <td>0</td>\n",
       "      <td>1.20</td>\n",
       "    </tr>\n",
       "    <tr>\n",
       "      <th>1</th>\n",
       "      <td>1</td>\n",
       "      <td>0.70</td>\n",
       "    </tr>\n",
       "    <tr>\n",
       "      <th>2</th>\n",
       "      <td>2</td>\n",
       "      <td>0.60</td>\n",
       "    </tr>\n",
       "    <tr>\n",
       "      <th>3</th>\n",
       "      <td>3</td>\n",
       "      <td>0.85</td>\n",
       "    </tr>\n",
       "    <tr>\n",
       "      <th>4</th>\n",
       "      <td>4</td>\n",
       "      <td>1.45</td>\n",
       "    </tr>\n",
       "    <tr>\n",
       "      <th>...</th>\n",
       "      <td>...</td>\n",
       "      <td>...</td>\n",
       "    </tr>\n",
       "    <tr>\n",
       "      <th>1435</th>\n",
       "      <td>1435</td>\n",
       "      <td>3.75</td>\n",
       "    </tr>\n",
       "    <tr>\n",
       "      <th>1436</th>\n",
       "      <td>1436</td>\n",
       "      <td>3.20</td>\n",
       "    </tr>\n",
       "    <tr>\n",
       "      <th>1437</th>\n",
       "      <td>1437</td>\n",
       "      <td>2.30</td>\n",
       "    </tr>\n",
       "    <tr>\n",
       "      <th>1438</th>\n",
       "      <td>1438</td>\n",
       "      <td>1.75</td>\n",
       "    </tr>\n",
       "    <tr>\n",
       "      <th>1439</th>\n",
       "      <td>1439</td>\n",
       "      <td>2.75</td>\n",
       "    </tr>\n",
       "  </tbody>\n",
       "</table>\n",
       "<p>1440 rows × 2 columns</p>\n",
       "</div>"
      ],
      "text/plain": [
       "       idx   tps\n",
       "0        0  1.20\n",
       "1        1  0.70\n",
       "2        2  0.60\n",
       "3        3  0.85\n",
       "4        4  1.45\n",
       "...    ...   ...\n",
       "1435  1435  3.75\n",
       "1436  1436  3.20\n",
       "1437  1437  2.30\n",
       "1438  1438  1.75\n",
       "1439  1439  2.75\n",
       "\n",
       "[1440 rows x 2 columns]"
      ]
     },
     "execution_count": 5,
     "metadata": {},
     "output_type": "execute_result"
    }
   ],
   "source": [
    "test_data"
   ]
  },
  {
   "cell_type": "code",
   "execution_count": 6,
   "id": "4e9f1b4f",
   "metadata": {
    "ExecuteTime": {
     "end_time": "2022-07-04T06:55:15.736063Z",
     "start_time": "2022-07-04T06:55:15.725555Z"
    }
   },
   "outputs": [],
   "source": [
    "test_data2 = test_data.tps-1"
   ]
  },
  {
   "cell_type": "code",
   "execution_count": 7,
   "id": "5b36ca2b",
   "metadata": {
    "ExecuteTime": {
     "end_time": "2022-07-04T06:55:20.500542Z",
     "start_time": "2022-07-04T06:55:20.496106Z"
    }
   },
   "outputs": [
    {
     "data": {
      "text/plain": [
       "0       0.20\n",
       "1      -0.30\n",
       "2      -0.40\n",
       "3      -0.15\n",
       "4       0.45\n",
       "        ... \n",
       "1435    2.75\n",
       "1436    2.20\n",
       "1437    1.30\n",
       "1438    0.75\n",
       "1439    1.75\n",
       "Name: tps, Length: 1440, dtype: float64"
      ]
     },
     "execution_count": 7,
     "metadata": {},
     "output_type": "execute_result"
    }
   ],
   "source": [
    "test_data2"
   ]
  },
  {
   "cell_type": "code",
   "execution_count": 8,
   "id": "f5b973c9",
   "metadata": {
    "ExecuteTime": {
     "end_time": "2022-07-04T06:55:53.338852Z",
     "start_time": "2022-07-04T06:55:53.324863Z"
    }
   },
   "outputs": [
    {
     "name": "stderr",
     "output_type": "stream",
     "text": [
      "C:\\Users\\exem\\AppData\\Local\\Temp/ipykernel_12836/591029896.py:1: SettingWithCopyWarning: \n",
      "A value is trying to be set on a copy of a slice from a DataFrame.\n",
      "Try using .loc[row_indexer,col_indexer] = value instead\n",
      "\n",
      "See the caveats in the documentation: https://pandas.pydata.org/pandas-docs/stable/user_guide/indexing.html#returning-a-view-versus-a-copy\n",
      "  test_data['tps2'] = test_data2\n"
     ]
    }
   ],
   "source": [
    "test_data['tps2'] = test_data2"
   ]
  },
  {
   "cell_type": "code",
   "execution_count": 9,
   "id": "c61c7f98",
   "metadata": {
    "ExecuteTime": {
     "end_time": "2022-07-04T06:55:59.424940Z",
     "start_time": "2022-07-04T06:55:59.400787Z"
    }
   },
   "outputs": [
    {
     "data": {
      "text/html": [
       "<div>\n",
       "<style scoped>\n",
       "    .dataframe tbody tr th:only-of-type {\n",
       "        vertical-align: middle;\n",
       "    }\n",
       "\n",
       "    .dataframe tbody tr th {\n",
       "        vertical-align: top;\n",
       "    }\n",
       "\n",
       "    .dataframe thead th {\n",
       "        text-align: right;\n",
       "    }\n",
       "</style>\n",
       "<table border=\"1\" class=\"dataframe\">\n",
       "  <thead>\n",
       "    <tr style=\"text-align: right;\">\n",
       "      <th></th>\n",
       "      <th>idx</th>\n",
       "      <th>tps</th>\n",
       "      <th>tps2</th>\n",
       "    </tr>\n",
       "  </thead>\n",
       "  <tbody>\n",
       "    <tr>\n",
       "      <th>0</th>\n",
       "      <td>0</td>\n",
       "      <td>1.20</td>\n",
       "      <td>0.20</td>\n",
       "    </tr>\n",
       "    <tr>\n",
       "      <th>1</th>\n",
       "      <td>1</td>\n",
       "      <td>0.70</td>\n",
       "      <td>-0.30</td>\n",
       "    </tr>\n",
       "    <tr>\n",
       "      <th>2</th>\n",
       "      <td>2</td>\n",
       "      <td>0.60</td>\n",
       "      <td>-0.40</td>\n",
       "    </tr>\n",
       "    <tr>\n",
       "      <th>3</th>\n",
       "      <td>3</td>\n",
       "      <td>0.85</td>\n",
       "      <td>-0.15</td>\n",
       "    </tr>\n",
       "    <tr>\n",
       "      <th>4</th>\n",
       "      <td>4</td>\n",
       "      <td>1.45</td>\n",
       "      <td>0.45</td>\n",
       "    </tr>\n",
       "    <tr>\n",
       "      <th>...</th>\n",
       "      <td>...</td>\n",
       "      <td>...</td>\n",
       "      <td>...</td>\n",
       "    </tr>\n",
       "    <tr>\n",
       "      <th>1435</th>\n",
       "      <td>1435</td>\n",
       "      <td>3.75</td>\n",
       "      <td>2.75</td>\n",
       "    </tr>\n",
       "    <tr>\n",
       "      <th>1436</th>\n",
       "      <td>1436</td>\n",
       "      <td>3.20</td>\n",
       "      <td>2.20</td>\n",
       "    </tr>\n",
       "    <tr>\n",
       "      <th>1437</th>\n",
       "      <td>1437</td>\n",
       "      <td>2.30</td>\n",
       "      <td>1.30</td>\n",
       "    </tr>\n",
       "    <tr>\n",
       "      <th>1438</th>\n",
       "      <td>1438</td>\n",
       "      <td>1.75</td>\n",
       "      <td>0.75</td>\n",
       "    </tr>\n",
       "    <tr>\n",
       "      <th>1439</th>\n",
       "      <td>1439</td>\n",
       "      <td>2.75</td>\n",
       "      <td>1.75</td>\n",
       "    </tr>\n",
       "  </tbody>\n",
       "</table>\n",
       "<p>1440 rows × 3 columns</p>\n",
       "</div>"
      ],
      "text/plain": [
       "       idx   tps  tps2\n",
       "0        0  1.20  0.20\n",
       "1        1  0.70 -0.30\n",
       "2        2  0.60 -0.40\n",
       "3        3  0.85 -0.15\n",
       "4        4  1.45  0.45\n",
       "...    ...   ...   ...\n",
       "1435  1435  3.75  2.75\n",
       "1436  1436  3.20  2.20\n",
       "1437  1437  2.30  1.30\n",
       "1438  1438  1.75  0.75\n",
       "1439  1439  2.75  1.75\n",
       "\n",
       "[1440 rows x 3 columns]"
      ]
     },
     "execution_count": 9,
     "metadata": {},
     "output_type": "execute_result"
    }
   ],
   "source": [
    "test_data"
   ]
  },
  {
   "cell_type": "code",
   "execution_count": 10,
   "id": "17c00e52",
   "metadata": {
    "ExecuteTime": {
     "end_time": "2022-07-04T06:57:16.888634Z",
     "start_time": "2022-07-04T06:57:16.868629Z"
    }
   },
   "outputs": [
    {
     "name": "stderr",
     "output_type": "stream",
     "text": [
      "C:\\Users\\exem\\AppData\\Local\\Temp/ipykernel_12836/1496162822.py:1: SettingWithCopyWarning: \n",
      "A value is trying to be set on a copy of a slice from a DataFrame.\n",
      "Try using .loc[row_indexer,col_indexer] = value instead\n",
      "\n",
      "See the caveats in the documentation: https://pandas.pydata.org/pandas-docs/stable/user_guide/indexing.html#returning-a-view-versus-a-copy\n",
      "  test_data['tps'] = test_data.tps - test_data.tps2\n"
     ]
    }
   ],
   "source": [
    "test_data['tps'] = test_data.tps - test_data.tps2"
   ]
  },
  {
   "cell_type": "code",
   "execution_count": 11,
   "id": "4645bd55",
   "metadata": {
    "ExecuteTime": {
     "end_time": "2022-07-04T06:57:23.183419Z",
     "start_time": "2022-07-04T06:57:23.168861Z"
    }
   },
   "outputs": [
    {
     "data": {
      "text/html": [
       "<div>\n",
       "<style scoped>\n",
       "    .dataframe tbody tr th:only-of-type {\n",
       "        vertical-align: middle;\n",
       "    }\n",
       "\n",
       "    .dataframe tbody tr th {\n",
       "        vertical-align: top;\n",
       "    }\n",
       "\n",
       "    .dataframe thead th {\n",
       "        text-align: right;\n",
       "    }\n",
       "</style>\n",
       "<table border=\"1\" class=\"dataframe\">\n",
       "  <thead>\n",
       "    <tr style=\"text-align: right;\">\n",
       "      <th></th>\n",
       "      <th>idx</th>\n",
       "      <th>tps</th>\n",
       "      <th>tps2</th>\n",
       "    </tr>\n",
       "  </thead>\n",
       "  <tbody>\n",
       "    <tr>\n",
       "      <th>0</th>\n",
       "      <td>0</td>\n",
       "      <td>1.0</td>\n",
       "      <td>0.20</td>\n",
       "    </tr>\n",
       "    <tr>\n",
       "      <th>1</th>\n",
       "      <td>1</td>\n",
       "      <td>1.0</td>\n",
       "      <td>-0.30</td>\n",
       "    </tr>\n",
       "    <tr>\n",
       "      <th>2</th>\n",
       "      <td>2</td>\n",
       "      <td>1.0</td>\n",
       "      <td>-0.40</td>\n",
       "    </tr>\n",
       "    <tr>\n",
       "      <th>3</th>\n",
       "      <td>3</td>\n",
       "      <td>1.0</td>\n",
       "      <td>-0.15</td>\n",
       "    </tr>\n",
       "    <tr>\n",
       "      <th>4</th>\n",
       "      <td>4</td>\n",
       "      <td>1.0</td>\n",
       "      <td>0.45</td>\n",
       "    </tr>\n",
       "    <tr>\n",
       "      <th>...</th>\n",
       "      <td>...</td>\n",
       "      <td>...</td>\n",
       "      <td>...</td>\n",
       "    </tr>\n",
       "    <tr>\n",
       "      <th>1435</th>\n",
       "      <td>1435</td>\n",
       "      <td>1.0</td>\n",
       "      <td>2.75</td>\n",
       "    </tr>\n",
       "    <tr>\n",
       "      <th>1436</th>\n",
       "      <td>1436</td>\n",
       "      <td>1.0</td>\n",
       "      <td>2.20</td>\n",
       "    </tr>\n",
       "    <tr>\n",
       "      <th>1437</th>\n",
       "      <td>1437</td>\n",
       "      <td>1.0</td>\n",
       "      <td>1.30</td>\n",
       "    </tr>\n",
       "    <tr>\n",
       "      <th>1438</th>\n",
       "      <td>1438</td>\n",
       "      <td>1.0</td>\n",
       "      <td>0.75</td>\n",
       "    </tr>\n",
       "    <tr>\n",
       "      <th>1439</th>\n",
       "      <td>1439</td>\n",
       "      <td>1.0</td>\n",
       "      <td>1.75</td>\n",
       "    </tr>\n",
       "  </tbody>\n",
       "</table>\n",
       "<p>1440 rows × 3 columns</p>\n",
       "</div>"
      ],
      "text/plain": [
       "       idx  tps  tps2\n",
       "0        0  1.0  0.20\n",
       "1        1  1.0 -0.30\n",
       "2        2  1.0 -0.40\n",
       "3        3  1.0 -0.15\n",
       "4        4  1.0  0.45\n",
       "...    ...  ...   ...\n",
       "1435  1435  1.0  2.75\n",
       "1436  1436  1.0  2.20\n",
       "1437  1437  1.0  1.30\n",
       "1438  1438  1.0  0.75\n",
       "1439  1439  1.0  1.75\n",
       "\n",
       "[1440 rows x 3 columns]"
      ]
     },
     "execution_count": 11,
     "metadata": {},
     "output_type": "execute_result"
    }
   ],
   "source": [
    "test_data"
   ]
  },
  {
   "cell_type": "code",
   "execution_count": null,
   "id": "bce96001",
   "metadata": {},
   "outputs": [],
   "source": [
    "test_data.tps.transform(lambda x: x - x.mean())"
   ]
  },
  {
   "cell_type": "code",
   "execution_count": null,
   "id": "dec03a5d",
   "metadata": {},
   "outputs": [],
   "source": [
    "df['time']=pd.to_datetime(df['time'])\n",
    "df.reset_index(drop=True, inplace=True)\n",
    "df['date']=df['time'].dt.date\n",
    "df_date_list = df.date.unique()\n",
    "total_min_df = pd.DataFrame() \n",
    "for i in df_date_list\n",
    "    data = df[df.date==i].resample('1T').asfreq()\n",
    "    total_min_df = pd.concat([total_min_df,data])\n",
    "total_min_df"
   ]
  },
  {
   "cell_type": "code",
   "execution_count": 7,
   "id": "3aa6649d",
   "metadata": {
    "ExecuteTime": {
     "end_time": "2022-07-06T05:40:50.571355Z",
     "start_time": "2022-07-06T05:40:50.547780Z"
    }
   },
   "outputs": [
    {
     "ename": "ValueError",
     "evalue": "Length mismatch: Expected 1440 rows, received array of length 7",
     "output_type": "error",
     "traceback": [
      "\u001b[1;31m---------------------------------------------------------------------------\u001b[0m",
      "\u001b[1;31mValueError\u001b[0m                                Traceback (most recent call last)",
      "\u001b[1;32m~\\AppData\\Local\\Temp/ipykernel_13132/4204383720.py\u001b[0m in \u001b[0;36m<module>\u001b[1;34m\u001b[0m\n\u001b[1;32m----> 1\u001b[1;33m \u001b[0mtest_data\u001b[0m\u001b[1;33m.\u001b[0m\u001b[0mset_index\u001b[0m\u001b[1;33m(\u001b[0m\u001b[0mnp\u001b[0m\u001b[1;33m.\u001b[0m\u001b[0marange\u001b[0m\u001b[1;33m(\u001b[0m\u001b[1;36m7\u001b[0m\u001b[1;33m)\u001b[0m\u001b[1;33m)\u001b[0m\u001b[1;33m\u001b[0m\u001b[1;33m\u001b[0m\u001b[0m\n\u001b[0m",
      "\u001b[1;32m~\\anaconda3\\lib\\site-packages\\pandas\\util\\_decorators.py\u001b[0m in \u001b[0;36mwrapper\u001b[1;34m(*args, **kwargs)\u001b[0m\n\u001b[0;32m    309\u001b[0m                     \u001b[0mstacklevel\u001b[0m\u001b[1;33m=\u001b[0m\u001b[0mstacklevel\u001b[0m\u001b[1;33m,\u001b[0m\u001b[1;33m\u001b[0m\u001b[1;33m\u001b[0m\u001b[0m\n\u001b[0;32m    310\u001b[0m                 )\n\u001b[1;32m--> 311\u001b[1;33m             \u001b[1;32mreturn\u001b[0m \u001b[0mfunc\u001b[0m\u001b[1;33m(\u001b[0m\u001b[1;33m*\u001b[0m\u001b[0margs\u001b[0m\u001b[1;33m,\u001b[0m \u001b[1;33m**\u001b[0m\u001b[0mkwargs\u001b[0m\u001b[1;33m)\u001b[0m\u001b[1;33m\u001b[0m\u001b[1;33m\u001b[0m\u001b[0m\n\u001b[0m\u001b[0;32m    312\u001b[0m \u001b[1;33m\u001b[0m\u001b[0m\n\u001b[0;32m    313\u001b[0m         \u001b[1;32mreturn\u001b[0m \u001b[0mwrapper\u001b[0m\u001b[1;33m\u001b[0m\u001b[1;33m\u001b[0m\u001b[0m\n",
      "\u001b[1;32m~\\anaconda3\\lib\\site-packages\\pandas\\core\\frame.py\u001b[0m in \u001b[0;36mset_index\u001b[1;34m(self, keys, drop, append, inplace, verify_integrity)\u001b[0m\n\u001b[0;32m   5499\u001b[0m                 \u001b[1;31m# check newest element against length of calling frame, since\u001b[0m\u001b[1;33m\u001b[0m\u001b[1;33m\u001b[0m\u001b[0m\n\u001b[0;32m   5500\u001b[0m                 \u001b[1;31m# ensure_index_from_sequences would not raise for append=False.\u001b[0m\u001b[1;33m\u001b[0m\u001b[1;33m\u001b[0m\u001b[0m\n\u001b[1;32m-> 5501\u001b[1;33m                 raise ValueError(\n\u001b[0m\u001b[0;32m   5502\u001b[0m                     \u001b[1;34mf\"Length mismatch: Expected {len(self)} rows, \"\u001b[0m\u001b[1;33m\u001b[0m\u001b[1;33m\u001b[0m\u001b[0m\n\u001b[0;32m   5503\u001b[0m                     \u001b[1;34mf\"received array of length {len(arrays[-1])}\"\u001b[0m\u001b[1;33m\u001b[0m\u001b[1;33m\u001b[0m\u001b[0m\n",
      "\u001b[1;31mValueError\u001b[0m: Length mismatch: Expected 1440 rows, received array of length 7"
     ]
    }
   ],
   "source": [
    "test_data.set_index(np.arange(7))"
   ]
  },
  {
   "cell_type": "code",
   "execution_count": null,
   "id": "a16c0562",
   "metadata": {
    "ExecuteTime": {
     "end_time": "2022-07-06T05:40:38.939041Z",
     "start_time": "2022-07-06T05:40:38.915049Z"
    }
   },
   "outputs": [],
   "source": []
  },
  {
   "cell_type": "code",
   "execution_count": null,
   "id": "9bf3bc0f",
   "metadata": {},
   "outputs": [],
   "source": [
    "raw_df['time'] = pd.to_datetime(raw_df['time'])\n",
    "        raw_df['date'] = raw_df['time'].dt.date\n",
    "        df_date_list = raw_df.date.unique()\n",
    "        for i in df_date_list:\n",
    "            if len(raw_df[raw_df.date == i]) != 1440:\n",
    "                print(raw_df[raw_df.date == i])"
   ]
  },
  {
   "cell_type": "code",
   "execution_count": null,
   "id": "48ab7c38",
   "metadata": {},
   "outputs": [],
   "source": [
    "import pandas as pd"
   ]
  },
  {
   "cell_type": "code",
   "execution_count": null,
   "id": "bc194dc6",
   "metadata": {},
   "outputs": [],
   "source": [
    "# 데이터 보간\n",
    "        raw_df = self.interpolate_missing_date(raw_df)\n",
    "    biz_raw_df = self.interpolate_missing_date(biz_raw_df)\n",
    "    raw_test_df = self.interpolate_missing_date(raw_test_df)"
   ]
  },
  {
   "cell_type": "code",
   "execution_count": null,
   "id": "294df67d",
   "metadata": {},
   "outputs": [],
   "source": [
    "    def interpolate_missing_date(self, df):\n",
    "        \"\"\"\n",
    "        description\n",
    "            - 각 분별 missing data 보간하는 함수, 각 날짜에 빠져 있는 시간을 선형 보간\n",
    "        Parameters\n",
    "        ----------\n",
    "            - df : analyzer.aimodule.AIModule 을 통해 반환된 학습 csv의 DataFrame\n",
    "\n",
    "        Returns\n",
    "        -------\n",
    "            - data : 각 날짜에 빠져 있는 시간에 선형 보간을 통해 채운 데이터\n",
    "        \"\"\"\n",
    "        # 변수 'time' 의 type 을 datetime 으로 변경\n",
    "        df['time'] = pd.to_datetime(df['time'])\n",
    "        df.reset_index(drop=True, inplace=True)\n",
    "        df['date'] = df['time'].dt.date\n",
    "        df = df.set_index('time')\n",
    "        # 날짜 데이터 리스트 생성\n",
    "        df_date_list = df.date.unique()\n",
    "        total_min_df = pd.DataFrame()\n",
    "        # 특정 날짜에 데이터가 1440개가 아닐 경우 리샘플을 통해 결측 시간 nan 값 채우기\n",
    "        for i in df_date_list:\n",
    "            if len(df[df.date == i]) == 1440:\n",
    "                data = df[df.date == i]\n",
    "            else:\n",
    "                data = df[df.date == i].resample('1T').asfreq()\n",
    "            total_min_df = pd.concat([total_min_df, data])\n",
    "        # 선형 보간\n",
    "        data = total_min_df.interpolate(method='linear')\n",
    "        data.reset_index(inplace=True)\n",
    "        data.drop('date', axis=1, inplace=True)\n",
    "        # 인덱스 재설정\n",
    "        idx_list = []\n",
    "        for j in range(int(len(data) / 1440)):\n",
    "            for i in range(1440):\n",
    "                idx_list.append(i)\n",
    "        data['idx'] = idx_list\n",
    "        data.set_index('idx', inplace=True)\n",
    "        return data"
   ]
  }
 ],
 "metadata": {
  "kernelspec": {
   "display_name": "Python 3 (ipykernel)",
   "language": "python",
   "name": "python3"
  },
  "language_info": {
   "codemirror_mode": {
    "name": "ipython",
    "version": 3
   },
   "file_extension": ".py",
   "mimetype": "text/x-python",
   "name": "python",
   "nbconvert_exporter": "python",
   "pygments_lexer": "ipython3",
   "version": "3.9.7"
  },
  "toc": {
   "base_numbering": 1,
   "nav_menu": {},
   "number_sections": true,
   "sideBar": true,
   "skip_h1_title": false,
   "title_cell": "Table of Contents",
   "title_sidebar": "Contents",
   "toc_cell": false,
   "toc_position": {},
   "toc_section_display": true,
   "toc_window_display": false
  }
 },
 "nbformat": 4,
 "nbformat_minor": 5
}
